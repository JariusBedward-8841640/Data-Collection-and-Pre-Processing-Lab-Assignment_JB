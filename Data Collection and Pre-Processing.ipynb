{
 "cells": [
  {
   "metadata": {},
   "cell_type": "markdown",
   "source": [
    "# Data Collection and Pre-Processing - Lab\n",
    "\n",
    "**Name:** Jarius Bedward\n",
    "\n",
    "**Course:** PROG8245 Machine Learning Programming\n",
    "\n",
    "**Date:** 2025-09-30"
   ],
   "id": "8f4924f61a7d3993"
  },
  {
   "metadata": {},
   "cell_type": "markdown",
   "source": "### Imports & Setup",
   "id": "28ca7a5b8affef6f"
  },
  {
   "cell_type": "code",
   "execution_count": null,
   "id": "initial_id",
   "metadata": {
    "collapsed": true
   },
   "outputs": [],
   "source": [
    "import pandas as pd\n",
    "import numpy as np\n",
    "from dataclasses import dataclass, field\n",
    "from datetime import datetime\n",
    "import re, os, json\n",
    "\n",
    "\n",
    "# Paths\n",
    "\n",
    "RAW_CSV = \"data/1000 Sales Records.csv\"\n",
    "META_CSV = \"data/shop-product-catalog.csv\"\n",
    "CLEAN_CSV = \"data/transaction_clean.csv\"\n",
    "CLEAN_JSON = \"data/transaction_clean.json\"\n",
    "\n",
    "# Load the first 500 rows from the primary file\n",
    "df_raw = pd.read_csv(RAW_CSV).head(500)\n"
   ]
  },
  {
   "metadata": {},
   "cell_type": "markdown",
   "source": [
    "### Step 1: Hello, Data!\n",
    "\n",
    "Load the primary transactions file and display the first 3 rows"
   ],
   "id": "d212b5b726236a54"
  },
  {
   "metadata": {},
   "cell_type": "code",
   "outputs": [],
   "execution_count": null,
   "source": "df_raw.head(3)",
   "id": "ec2124b24ac116a6"
  },
  {
   "metadata": {},
   "cell_type": "markdown",
   "source": [
    "### Step 2: Pick the right container\n",
    "\n",
    "For this pandas.DataFrame would be efficient for tabular work.\n",
    "For row level logic like pre-order cleaning and totals a small python class would be sufficient"
   ],
   "id": "b67ccf923362117"
  },
  {
   "metadata": {},
   "cell_type": "markdown",
   "source": "### Step 3: Order Class",
   "id": "3ba2bb8e33ff2a52"
  },
  {
   "metadata": {},
   "cell_type": "code",
   "outputs": [],
   "execution_count": null,
   "source": [
    "@dataclass\n",
    "class Order:\n",
    "    order_date: str\n",
    "    region: str\n",
    "    country: str\n",
    "    item_type: str\n",
    "    sales_channel: str\n",
    "    order_priority: str\n",
    "    order_id: int\n",
    "    ship_date: str\n",
    "    units_sold: int\n",
    "    unit_price: float\n",
    "    unit_cost: float\n",
    "    total_revenue: float\n",
    "    total_cost: float\n",
    "    total_profit: float\n",
    "    product_id: str = None # links to catalog\n",
    "    discount_pct: float = field(default=0.0, init=False)\n",
    "\n",
    "    def clean(self):\n",
    "        # Ensure numeric\n",
    "        self.units_sold = int(self.units_sold)\n",
    "        self.unit_price = float(self.unit_price)\n",
    "        self.unit_cost = float(self.unit_cost)\n",
    "\n",
    "    def total(self):\n",
    "        gross = self.units_sold * self.unit_price\n",
    "        net = gross * (1 - self.discount_pct)\n",
    "        return round (net, 2)\n",
    "\n",
    "row = df_raw.iloc[0].to_dict()\n",
    "order = Order(**row)\n",
    "order.clean()\n",
    "order.total()"
   ],
   "id": "d9bc80f9c159861c"
  },
  {
   "metadata": {},
   "cell_type": "markdown",
   "source": "### Step 4: Bulk Load Orders",
   "id": "e5e0df1c397a818b"
  },
  {
   "metadata": {},
   "cell_type": "code",
   "outputs": [],
   "execution_count": null,
   "source": [
    "def df_to_orders(df):\n",
    "    orders = []\n",
    "    for _, r in df.iterrows():\n",
    "        o = Order(**r.to_dict())\n",
    "        o.clean()\n",
    "        orders.append(o)\n",
    "    return orders\n",
    "\n",
    "orders = df_to_orders(df_raw)\n",
    "len(orders)"
   ],
   "id": "aa169cec863a07bd"
  },
  {
   "metadata": {},
   "cell_type": "markdown",
   "source": "### Step 5: Quick Profiling",
   "id": "ef3c9e4ff8900c0c"
  },
  {
   "metadata": {},
   "cell_type": "code",
   "outputs": [],
   "execution_count": null,
   "source": [
    "min_price = df_raw[\"Unit Price\"].min()\n",
    "mean_price = df_raw[\"Unit Price\"].mean()\n",
    "max_price = df_raw[\"Unit Price\"].max()\n",
    "unique_countries = df_raw[\"Country\"].nunique()\n",
    "\n",
    "print(f\"Price range: {min_price}-{max_price}, mean={mean_price:.2f}\")\n",
    "print(\"Unique country count:\", unique_countries)"
   ],
   "id": "b0821e0cbafdd910"
  },
  {
   "metadata": {},
   "cell_type": "markdown",
   "source": [
    "### Step 6: Spot the Grime\n",
    "\n",
    "Identify 3 dirty cases\n",
    "\n",
    "    1. Inconsitent country names\n",
    "    2. Negative or zero \"Units Sold\"\n",
    "    3. Rounding mismatches between totals vs Unit*Quantity"
   ],
   "id": "10e7cf13089f96ff"
  },
  {
   "metadata": {},
   "cell_type": "code",
   "outputs": [],
   "execution_count": null,
   "source": [
    "(df_raw[\"Units Sold\"] <= 0).sum()\n",
    "rounding_issue = (df_raw[\"Total Revenue\"] != df_raw[\"Units Sold\"] * df_raw[\"Unit Price\"]).sum()\n",
    "rounding_issue"
   ],
   "id": "c6013805ff387c66"
  },
  {
   "metadata": {},
   "cell_type": "markdown",
   "source": "### Step 7: Clean Rules",
   "id": "5e3b47fe98a46a00"
  },
  {
   "metadata": {
    "ExecuteTime": {
     "end_time": "2025-09-30T16:57:57.513933Z",
     "start_time": "2025-09-30T16:57:57.502262Z"
    }
   },
   "cell_type": "code",
   "source": [
    "df_clean = df_raw.copy()\n",
    "\n",
    "# Fix the negative units\n",
    "\n",
    "df_clean.loc[df_clean[\"Units Sold\"] <= 0, \"Units Sold\"] = 1\n",
    "\n",
    "# Normalize the names\n",
    "df_clean[\"Country\"] = df_clean[\"Country\"].str.strio().str.title()\n",
    "\n",
    "df_clean[\"Total Revenue\"] = df_clean[\"Units Sold\"] * df_clean[\"Unit Price\"]\n",
    "df_clean[\"Total Cost\"] = df_clean[\"Units Sold\"] * df_clean[\"Unit Cost\"]\n",
    "df_clean['Total Profit'] = df_clean['Total Revenue'] - df_clean['Total Cost']\n",
    "\n",
    "df_clean.head(3)"
   ],
   "id": "1424274749e21e1c",
   "outputs": [
    {
     "ename": "SyntaxError",
     "evalue": "invalid syntax (2396007248.py, line 12)",
     "output_type": "error",
     "traceback": [
      "  \u001B[36mCell\u001B[39m\u001B[36m \u001B[39m\u001B[32mIn[1]\u001B[39m\u001B[32m, line 12\u001B[39m\n\u001B[31m    \u001B[39m\u001B[31mdf_clean[\"Total Profit\"] = df_clean[\"Total Revenue\"] - df_clean[]\u001B[39m\n                                                                    ^\n\u001B[31mSyntaxError\u001B[39m\u001B[31m:\u001B[39m invalid syntax\n"
     ]
    }
   ],
   "execution_count": 1
  },
  {
   "metadata": {},
   "cell_type": "markdown",
   "source": "### Step 8: Transformations",
   "id": "f89edc8d0d059367"
  },
  {
   "metadata": {},
   "cell_type": "code",
   "outputs": [],
   "execution_count": null,
   "source": [
    "df_meta = pd.read_csv(META_CSV)\n",
    "df_meta.head(3)\n",
    "\n",
    "\n",
    "df_enriched = df_clean.merge(df_meta, how=\"left\", on=\"Item Type\", right_on=\"product_name\")\n",
    "df_enriched.head(3)"
   ],
   "id": "57b484b6e149ef9"
  },
  {
   "metadata": {},
   "cell_type": "markdown",
   "source": "### Step 9: Feature Engineering",
   "id": "8378bbee9b10ad7c"
  },
  {
   "metadata": {
    "ExecuteTime": {
     "end_time": "2025-09-30T17:09:07.411558Z",
     "start_time": "2025-09-30T17:09:07.337316Z"
    }
   },
   "cell_type": "code",
   "source": [
    "# Days since the order has shipped\n",
    "\n",
    "df_enriched[\"Order Date\"] = pd.to_datetime(df_enriched[\"Order Date\"])\n",
    "df_enriched[\"Ship Date\"] = pd.to_datetime(df_enriched[\"Ship Date\"])\n",
    "ref_date = df_enriched[\"Ship Date\"].max()\n",
    "df_enriched[\"days_since_ship\"] = (ref_date - df_enriched[\"Ship Date\"]).dt.days\n",
    "\n",
    "# High value falg\n",
    "df_enriched[\"is_high_value\"] = df_enriched[\"Total Revenue\"] > 10000\n",
    "df_enriched[[\"Order Date\", \"Ship Date\", \"days_since_ship\", \"is_high_value\"]].head()"
   ],
   "id": "dfad5b275461be15",
   "outputs": [
    {
     "ename": "NameError",
     "evalue": "name 'pd' is not defined",
     "output_type": "error",
     "traceback": [
      "\u001B[31m---------------------------------------------------------------------------\u001B[39m",
      "\u001B[31mNameError\u001B[39m                                 Traceback (most recent call last)",
      "\u001B[36mCell\u001B[39m\u001B[36m \u001B[39m\u001B[32mIn[3]\u001B[39m\u001B[32m, line 3\u001B[39m\n\u001B[32m      1\u001B[39m \u001B[38;5;66;03m# Days since the order has shipped\u001B[39;00m\n\u001B[32m----> \u001B[39m\u001B[32m3\u001B[39m df_enriched[\u001B[33m\"\u001B[39m\u001B[33mOrder Date\u001B[39m\u001B[33m\"\u001B[39m] = \u001B[43mpd\u001B[49m.to_datetime(df_enriched[\u001B[33m\"\u001B[39m\u001B[33mOrder Date\u001B[39m\u001B[33m\"\u001B[39m])\n\u001B[32m      4\u001B[39m df_enriched[\u001B[33m\"\u001B[39m\u001B[33mShip Date\u001B[39m\u001B[33m\"\u001B[39m] = pd.to_datetime(df_enriched[\u001B[33m\"\u001B[39m\u001B[33mShip Date\u001B[39m\u001B[33m\"\u001B[39m])\n\u001B[32m      5\u001B[39m ref_date = df_enriched[\u001B[33m\"\u001B[39m\u001B[33mShip Date\u001B[39m\u001B[33m\"\u001B[39m].max()\n",
      "\u001B[31mNameError\u001B[39m: name 'pd' is not defined"
     ]
    }
   ],
   "execution_count": 3
  },
  {
   "metadata": {},
   "cell_type": "markdown",
   "source": "### Step 10: Mini-Aggregation",
   "id": "affd1938a4fa152f"
  }
 ],
 "metadata": {
  "kernelspec": {
   "display_name": "Python 3",
   "language": "python",
   "name": "python3"
  },
  "language_info": {
   "codemirror_mode": {
    "name": "ipython",
    "version": 2
   },
   "file_extension": ".py",
   "mimetype": "text/x-python",
   "name": "python",
   "nbconvert_exporter": "python",
   "pygments_lexer": "ipython2",
   "version": "2.7.6"
  }
 },
 "nbformat": 4,
 "nbformat_minor": 5
}
