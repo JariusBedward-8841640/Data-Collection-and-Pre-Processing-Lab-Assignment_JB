{
 "cells": [
  {
   "metadata": {},
   "cell_type": "markdown",
   "source": [
    "# Data Collection and Pre-Processing - Lab\n",
    "\n",
    "**Name:** Jarius Bedward\n",
    "\n",
    "**Course:** PROG8245 Machine Learning Programming\n",
    "\n",
    "**Date:** 2025-09-30"
   ],
   "id": "8f4924f61a7d3993"
  },
  {
   "metadata": {},
   "cell_type": "markdown",
   "source": "### Imports & Setup",
   "id": "28ca7a5b8affef6f"
  },
  {
   "cell_type": "code",
   "execution_count": null,
   "id": "initial_id",
   "metadata": {
    "collapsed": true
   },
   "outputs": [],
   "source": [
    "import pandas as pd\n",
    "import numpy as np\n",
    "from dataclasses import dataclass, field\n",
    "from datetime import datetime\n",
    "import re, os, json\n",
    "\n",
    "\n",
    "# Paths\n",
    "\n",
    "RAW_CSV = \"data/1000 Sales Records.csv\"\n",
    "META_CSV = \"data/shop-product-catalog.csv\"\n",
    "CLEAN_CSV = \"data/transaction_clean.csv\"\n",
    "CLEAN_JSON = \"data/transaction_clean.json\"\n",
    "\n",
    "# Load the first 500 rows from the primary file\n",
    "df_raw = pd.read_csv(RAW_CSV).head(500)\n"
   ]
  },
  {
   "metadata": {},
   "cell_type": "markdown",
   "source": [
    "### Step 1: Hello, Data!\n",
    "\n",
    "Load the primary transactions file and display the first 3 rows"
   ],
   "id": "d212b5b726236a54"
  },
  {
   "metadata": {},
   "cell_type": "code",
   "outputs": [],
   "execution_count": null,
   "source": "df_raw.head(3)",
   "id": "ec2124b24ac116a6"
  },
  {
   "metadata": {},
   "cell_type": "markdown",
   "source": [
    "### Step 2: Pick the right container\n",
    "\n",
    "For this pandas.DataFrame would be efficient for tabular work.\n",
    "For row level logic like pre-order cleaning and totals a small python class would be sufficient"
   ],
   "id": "b67ccf923362117"
  },
  {
   "metadata": {},
   "cell_type": "markdown",
   "source": "### Step 3: Order Class",
   "id": "3ba2bb8e33ff2a52"
  },
  {
   "metadata": {},
   "cell_type": "code",
   "outputs": [],
   "execution_count": null,
   "source": [
    "@dataclass\n",
    "class Order:\n",
    "    order_date: str\n",
    "    region: str\n",
    "    country: str\n",
    "    item_type: str\n",
    "    sales_channel: str\n",
    "    order_priority: str\n",
    "    order_id: int\n",
    "    ship_date: str\n",
    "    units_sold: int\n",
    "    unit_price: float\n",
    "    unit_cost: float\n",
    "    total_revenue: float\n",
    "    total_cost: float\n",
    "    total_profit: float\n",
    "    product_id: str = None # links to catalog\n",
    "    discount_pct: float = field(default=0.0, init=False)\n",
    "\n",
    "    def clean(self):\n",
    "        # Ensure numeric\n",
    "        self.units_sold = int(self.units_sold)\n",
    "        self.unit_price = float(self.unit_price)\n",
    "        self.unit_cost = float(self.unit_cost)\n",
    "\n",
    "    def total(self):\n",
    "        gross = self.units_sold * self.unit_price\n",
    "        net = gross * (1 - self.discount_pct)\n",
    "        return round (net, 2)\n",
    "\n",
    "row = df_raw.iloc[0].to_dict()\n",
    "order = Order(**row)\n",
    "order.clean()\n",
    "order.total()"
   ],
   "id": "d9bc80f9c159861c"
  },
  {
   "metadata": {},
   "cell_type": "markdown",
   "source": "### Step 4: Bulk Load Orders",
   "id": "e5e0df1c397a818b"
  },
  {
   "metadata": {},
   "cell_type": "code",
   "outputs": [],
   "execution_count": null,
   "source": [
    "def df_to_orders(df):\n",
    "    orders = []\n",
    "    for _, r in df.iterrows():\n",
    "        o = Order(**r.to_dict())\n",
    "        o.clean()\n",
    "        orders.append(o)\n",
    "    return orders\n",
    "\n",
    "orders = df_to_orders(df_raw)\n",
    "len(orders)"
   ],
   "id": "aa169cec863a07bd"
  },
  {
   "metadata": {},
   "cell_type": "markdown",
   "source": "### Step 5: Quick Profiling",
   "id": "ef3c9e4ff8900c0c"
  },
  {
   "metadata": {},
   "cell_type": "code",
   "outputs": [],
   "execution_count": null,
   "source": [
    "min_price = df_raw[\"Unit Price\"].min()\n",
    "mean_price = df_raw[\"Unit Price\"].mean()\n",
    "max_price = df_raw[\"Unit Price\"].max()\n",
    "unique_countries = df_raw[\"Country\"].nunique()\n",
    "\n",
    "print(f\"Price range: {min_price}-{max_price}, mean={mean_price:.2f}\")\n",
    "print(\"Unique country count:\", unique_countries)"
   ],
   "id": "b0821e0cbafdd910"
  },
  {
   "metadata": {},
   "cell_type": "markdown",
   "source": "### Step 6: Spot the Grime",
   "id": "10e7cf13089f96ff"
  }
 ],
 "metadata": {
  "kernelspec": {
   "display_name": "Python 3",
   "language": "python",
   "name": "python3"
  },
  "language_info": {
   "codemirror_mode": {
    "name": "ipython",
    "version": 2
   },
   "file_extension": ".py",
   "mimetype": "text/x-python",
   "name": "python",
   "nbconvert_exporter": "python",
   "pygments_lexer": "ipython2",
   "version": "2.7.6"
  }
 },
 "nbformat": 4,
 "nbformat_minor": 5
}
