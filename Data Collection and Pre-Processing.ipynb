{
 "cells": [
  {
   "metadata": {},
   "cell_type": "markdown",
   "source": [
    "# Data Collection and Pre-Processing - Lab\n",
    "\n",
    "**Name:** Jarius Bedward\n",
    "\n",
    "**Course:** PROG8245 Machine Learning Programming\n",
    "\n",
    "**Date:** 2025-09-30"
   ],
   "id": "8f4924f61a7d3993"
  },
  {
   "metadata": {},
   "cell_type": "markdown",
   "source": "### Imports & Setup",
   "id": "28ca7a5b8affef6f"
  },
  {
   "cell_type": "code",
   "id": "initial_id",
   "metadata": {
    "collapsed": true,
    "ExecuteTime": {
     "end_time": "2025-09-30T18:25:45.253811Z",
     "start_time": "2025-09-30T18:25:45.236871Z"
    }
   },
   "source": [
    "import pandas as pd\n",
    "import numpy as np\n",
    "from dataclasses import dataclass, field\n",
    "\n",
    "\n",
    "\n",
    "# Paths for primary and secondary data\n",
    "\n",
    "sales_df = pd.read_csv(\"data/1000 Sales Records.csv\")\n",
    "catalog_df = pd.read_csv(\"data/shop-product-catalog.csv\")\n",
    "\n",
    "\n"
   ],
   "outputs": [],
   "execution_count": 13
  },
  {
   "metadata": {},
   "cell_type": "markdown",
   "source": [
    "### Step 1: Hello, Data!\n",
    "\n",
    "Load the primary transactions file and display the first 3 rows"
   ],
   "id": "d212b5b726236a54"
  },
  {
   "metadata": {
    "ExecuteTime": {
     "end_time": "2025-09-30T18:25:45.301678Z",
     "start_time": "2025-09-30T18:25:45.271111Z"
    }
   },
   "cell_type": "code",
   "source": [
    "display(sales_df.head(3))\n",
    "display(catalog_df.head(3))"
   ],
   "id": "ec2124b24ac116a6",
   "outputs": [
    {
     "data": {
      "text/plain": [
       "                         Region Country   Item Type Sales Channel  \\\n",
       "0  Middle East and North Africa   Libya   Cosmetics       Offline   \n",
       "1                 North America  Canada  Vegetables        Online   \n",
       "2  Middle East and North Africa   Libya   Baby Food       Offline   \n",
       "\n",
       "  Order Priority  Order Date   Order ID   Ship Date  Units Sold  Unit Price  \\\n",
       "0              M  10/18/2014  686800706  10/31/2014        8446      437.20   \n",
       "1              M   11/7/2011  185941302   12/8/2011        3018      154.06   \n",
       "2              C  10/31/2016  246222341   12/9/2016        1517      255.28   \n",
       "\n",
       "   Unit Cost  Total Revenue  Total Cost  Total Profit  \n",
       "0     263.33     3692591.20  2224085.18    1468506.02  \n",
       "1      90.93      464953.08   274426.74     190526.34  \n",
       "2     159.42      387259.76   241840.14     145419.62  "
      ],
      "text/html": [
       "<div>\n",
       "<style scoped>\n",
       "    .dataframe tbody tr th:only-of-type {\n",
       "        vertical-align: middle;\n",
       "    }\n",
       "\n",
       "    .dataframe tbody tr th {\n",
       "        vertical-align: top;\n",
       "    }\n",
       "\n",
       "    .dataframe thead th {\n",
       "        text-align: right;\n",
       "    }\n",
       "</style>\n",
       "<table border=\"1\" class=\"dataframe\">\n",
       "  <thead>\n",
       "    <tr style=\"text-align: right;\">\n",
       "      <th></th>\n",
       "      <th>Region</th>\n",
       "      <th>Country</th>\n",
       "      <th>Item Type</th>\n",
       "      <th>Sales Channel</th>\n",
       "      <th>Order Priority</th>\n",
       "      <th>Order Date</th>\n",
       "      <th>Order ID</th>\n",
       "      <th>Ship Date</th>\n",
       "      <th>Units Sold</th>\n",
       "      <th>Unit Price</th>\n",
       "      <th>Unit Cost</th>\n",
       "      <th>Total Revenue</th>\n",
       "      <th>Total Cost</th>\n",
       "      <th>Total Profit</th>\n",
       "    </tr>\n",
       "  </thead>\n",
       "  <tbody>\n",
       "    <tr>\n",
       "      <th>0</th>\n",
       "      <td>Middle East and North Africa</td>\n",
       "      <td>Libya</td>\n",
       "      <td>Cosmetics</td>\n",
       "      <td>Offline</td>\n",
       "      <td>M</td>\n",
       "      <td>10/18/2014</td>\n",
       "      <td>686800706</td>\n",
       "      <td>10/31/2014</td>\n",
       "      <td>8446</td>\n",
       "      <td>437.20</td>\n",
       "      <td>263.33</td>\n",
       "      <td>3692591.20</td>\n",
       "      <td>2224085.18</td>\n",
       "      <td>1468506.02</td>\n",
       "    </tr>\n",
       "    <tr>\n",
       "      <th>1</th>\n",
       "      <td>North America</td>\n",
       "      <td>Canada</td>\n",
       "      <td>Vegetables</td>\n",
       "      <td>Online</td>\n",
       "      <td>M</td>\n",
       "      <td>11/7/2011</td>\n",
       "      <td>185941302</td>\n",
       "      <td>12/8/2011</td>\n",
       "      <td>3018</td>\n",
       "      <td>154.06</td>\n",
       "      <td>90.93</td>\n",
       "      <td>464953.08</td>\n",
       "      <td>274426.74</td>\n",
       "      <td>190526.34</td>\n",
       "    </tr>\n",
       "    <tr>\n",
       "      <th>2</th>\n",
       "      <td>Middle East and North Africa</td>\n",
       "      <td>Libya</td>\n",
       "      <td>Baby Food</td>\n",
       "      <td>Offline</td>\n",
       "      <td>C</td>\n",
       "      <td>10/31/2016</td>\n",
       "      <td>246222341</td>\n",
       "      <td>12/9/2016</td>\n",
       "      <td>1517</td>\n",
       "      <td>255.28</td>\n",
       "      <td>159.42</td>\n",
       "      <td>387259.76</td>\n",
       "      <td>241840.14</td>\n",
       "      <td>145419.62</td>\n",
       "    </tr>\n",
       "  </tbody>\n",
       "</table>\n",
       "</div>"
      ]
     },
     "metadata": {},
     "output_type": "display_data",
     "jetTransient": {
      "display_id": null
     }
    },
    {
     "data": {
      "text/plain": [
       "   ProductID       ProductName ProductBrand  Gender  Price  \\\n",
       "0       1000      Presto Fly 3         Nike   Women  10999   \n",
       "1       1001  Superstar Bold 2       Adidas     Men  11999   \n",
       "2       1002  Old Skool Lite 3         Vans  Unisex   4999   \n",
       "\n",
       "                                         Description PrimaryColor  \n",
       "0  Lightweight and breathable running shoes with ...         Pink  \n",
       "1  Classic basketball shoes with a modern twist a...        Black  \n",
       "2  Iconic skateboarding shoes with a relaxed fit ...         Grey  "
      ],
      "text/html": [
       "<div>\n",
       "<style scoped>\n",
       "    .dataframe tbody tr th:only-of-type {\n",
       "        vertical-align: middle;\n",
       "    }\n",
       "\n",
       "    .dataframe tbody tr th {\n",
       "        vertical-align: top;\n",
       "    }\n",
       "\n",
       "    .dataframe thead th {\n",
       "        text-align: right;\n",
       "    }\n",
       "</style>\n",
       "<table border=\"1\" class=\"dataframe\">\n",
       "  <thead>\n",
       "    <tr style=\"text-align: right;\">\n",
       "      <th></th>\n",
       "      <th>ProductID</th>\n",
       "      <th>ProductName</th>\n",
       "      <th>ProductBrand</th>\n",
       "      <th>Gender</th>\n",
       "      <th>Price</th>\n",
       "      <th>Description</th>\n",
       "      <th>PrimaryColor</th>\n",
       "    </tr>\n",
       "  </thead>\n",
       "  <tbody>\n",
       "    <tr>\n",
       "      <th>0</th>\n",
       "      <td>1000</td>\n",
       "      <td>Presto Fly 3</td>\n",
       "      <td>Nike</td>\n",
       "      <td>Women</td>\n",
       "      <td>10999</td>\n",
       "      <td>Lightweight and breathable running shoes with ...</td>\n",
       "      <td>Pink</td>\n",
       "    </tr>\n",
       "    <tr>\n",
       "      <th>1</th>\n",
       "      <td>1001</td>\n",
       "      <td>Superstar Bold 2</td>\n",
       "      <td>Adidas</td>\n",
       "      <td>Men</td>\n",
       "      <td>11999</td>\n",
       "      <td>Classic basketball shoes with a modern twist a...</td>\n",
       "      <td>Black</td>\n",
       "    </tr>\n",
       "    <tr>\n",
       "      <th>2</th>\n",
       "      <td>1002</td>\n",
       "      <td>Old Skool Lite 3</td>\n",
       "      <td>Vans</td>\n",
       "      <td>Unisex</td>\n",
       "      <td>4999</td>\n",
       "      <td>Iconic skateboarding shoes with a relaxed fit ...</td>\n",
       "      <td>Grey</td>\n",
       "    </tr>\n",
       "  </tbody>\n",
       "</table>\n",
       "</div>"
      ]
     },
     "metadata": {},
     "output_type": "display_data",
     "jetTransient": {
      "display_id": null
     }
    }
   ],
   "execution_count": 14
  },
  {
   "metadata": {},
   "cell_type": "markdown",
   "source": [
    "### Step 2: Pick the right container\n",
    "\n",
    "For this dataset we would use a dictionary of lists from padnas dataframe.\n",
    "Pandas dataframe is built on dictionary like structures so its the most appropriate for this"
   ],
   "id": "b67ccf923362117"
  },
  {
   "metadata": {},
   "cell_type": "markdown",
   "source": "### Step 3: Order Class",
   "id": "3ba2bb8e33ff2a52"
  },
  {
   "metadata": {
    "ExecuteTime": {
     "end_time": "2025-09-30T18:25:45.439242Z",
     "start_time": "2025-09-30T18:25:45.427348Z"
    }
   },
   "cell_type": "code",
   "source": [
    "\n",
    "class SalesCleaner:\n",
    "    def __init__(self, df):\n",
    "        self.df = df.copy()\n",
    "\n",
    "    def clean(self):\n",
    "        #Cleaning: Strip the whitespace in item type\n",
    "        self.df[\"Item Type\"] = self.df[\"Item Type\"].str.strip()\n",
    "        return self.df\n",
    "\n",
    "    def total_revenue(self):\n",
    "\n",
    "        return self.df [\"Total Revenue\"].sum()\n",
    "\n",
    "cleaner = SalesCleaner(sales_df)\n",
    "cleaned_sales = cleaner.clean()\n",
    "print(\"Total Revenue:\", cleaner.total_revenue())"
   ],
   "id": "d9bc80f9c159861c",
   "outputs": [
    {
     "name": "stdout",
     "output_type": "stream",
     "text": [
      "Total Revenue: 1327321840.33\n"
     ]
    }
   ],
   "execution_count": 15
  },
  {
   "metadata": {},
   "cell_type": "markdown",
   "source": "### Step 4: Bulk Load Orders",
   "id": "e5e0df1c397a818b"
  },
  {
   "metadata": {
    "ExecuteTime": {
     "end_time": "2025-09-30T18:25:45.707222Z",
     "start_time": "2025-09-30T18:25:45.697853Z"
    }
   },
   "cell_type": "code",
   "source": [
    "profit_map = dict(zip(cleaned_sales[\"Order ID\"], cleaned_sales[\"Total Profit\"]))\n",
    "list(profit_map.items())[:5]"
   ],
   "id": "aa169cec863a07bd",
   "outputs": [
    {
     "data": {
      "text/plain": [
       "[(686800706, 1468506.02),\n",
       " (185941302, 190526.34),\n",
       " (246222341, 145419.62),\n",
       " (161442649, 294295.98),\n",
       " (645713555, 23726.45)]"
      ]
     },
     "execution_count": 16,
     "metadata": {},
     "output_type": "execute_result"
    }
   ],
   "execution_count": 16
  },
  {
   "metadata": {},
   "cell_type": "markdown",
   "source": "### Step 5: Quick Profiling",
   "id": "ef3c9e4ff8900c0c"
  },
  {
   "metadata": {
    "ExecuteTime": {
     "end_time": "2025-09-30T18:25:45.767620Z",
     "start_time": "2025-09-30T18:25:45.755830Z"
    }
   },
   "cell_type": "code",
   "source": [
    "print(\"Min price:\", cleaned_sales[\"Unit Price\"].min())\n",
    "print(\"Mean price:\", cleaned_sales[\"Unit Price\"].mean())\n",
    "print(\"Max price:\", cleaned_sales[\"Unit Price\"].max())\n",
    "print(\"Unique countries:\", len(set(cleaned_sales[\"Country\"])))"
   ],
   "id": "b0821e0cbafdd910",
   "outputs": [
    {
     "name": "stdout",
     "output_type": "stream",
     "text": [
      "Min price: 9.33\n",
      "Mean price: 262.10684\n",
      "Max price: 668.27\n",
      "Unique countries: 185\n"
     ]
    }
   ],
   "execution_count": 17
  },
  {
   "metadata": {},
   "cell_type": "markdown",
   "source": [
    "### Step 6: Spot the Grime\n",
    "\n",
    "Identify 3 dirty cases\n",
    "\n",
    "    1. Extra whitespace in \"Item type\"\n",
    "    2. Inconsistent date formats in \"order date\n",
    "    3. Negative or zero \"Units sold\""
   ],
   "id": "10e7cf13089f96ff"
  },
  {
   "metadata": {
    "ExecuteTime": {
     "end_time": "2025-09-30T18:25:45.845132Z",
     "start_time": "2025-09-30T18:25:45.833152Z"
    }
   },
   "cell_type": "code",
   "source": [
    "print(\"Whitespace check:\", cleaned_sales[\"Item Type\"].str.contains(\" \").sum())\n",
    "print(\"date format sample:\", cleaned_sales[\"Order Date\"].head())\n",
    "print(\"Units sold ≤ 0:\", (cleaned_sales[\"Units Sold\"] <= 0).sum())"
   ],
   "id": "c6013805ff387c66",
   "outputs": [
    {
     "name": "stdout",
     "output_type": "stream",
     "text": [
      "Whitespace check: 263\n",
      "date format sample: 0    10/18/2014\n",
      "1     11/7/2011\n",
      "2    10/31/2016\n",
      "3     4/10/2010\n",
      "4     8/16/2011\n",
      "Name: Order Date, dtype: object\n",
      "Units sold ≤ 0: 0\n"
     ]
    }
   ],
   "execution_count": 18
  },
  {
   "metadata": {},
   "cell_type": "markdown",
   "source": [
    "### Step 7: Clean Rules\n",
    "\n",
    "We apply rules inside the clean method to normalize thew whitespace, convert dates to datetime and filter out bad units"
   ],
   "id": "5e3b47fe98a46a00"
  },
  {
   "metadata": {
    "ExecuteTime": {
     "end_time": "2025-09-30T18:25:45.979180Z",
     "start_time": "2025-09-30T18:25:45.921135Z"
    }
   },
   "cell_type": "code",
   "source": [
    "def clean_sales(df):\n",
    "    df = df.copy()\n",
    "    df[\"Item Type\"] = df[\"Item Type\"].str.strip()\n",
    "    df[\"Order Date\"] = pd.to_datetime(df[\"Order Date\"])\n",
    "    df[\"Ship Date\"] = pd.to_datetime(df[\"Ship Date\"])\n",
    "    df = df[df[\"Units Sold\"] > 0]\n",
    "    return df\n",
    "\n",
    "sales_cleaned = clean_sales(sales_df)\n",
    "sales_cleaned.info()"
   ],
   "id": "1424274749e21e1c",
   "outputs": [
    {
     "name": "stdout",
     "output_type": "stream",
     "text": [
      "<class 'pandas.core.frame.DataFrame'>\n",
      "RangeIndex: 1000 entries, 0 to 999\n",
      "Data columns (total 14 columns):\n",
      " #   Column          Non-Null Count  Dtype         \n",
      "---  ------          --------------  -----         \n",
      " 0   Region          1000 non-null   object        \n",
      " 1   Country         1000 non-null   object        \n",
      " 2   Item Type       1000 non-null   object        \n",
      " 3   Sales Channel   1000 non-null   object        \n",
      " 4   Order Priority  1000 non-null   object        \n",
      " 5   Order Date      1000 non-null   datetime64[ns]\n",
      " 6   Order ID        1000 non-null   int64         \n",
      " 7   Ship Date       1000 non-null   datetime64[ns]\n",
      " 8   Units Sold      1000 non-null   int64         \n",
      " 9   Unit Price      1000 non-null   float64       \n",
      " 10  Unit Cost       1000 non-null   float64       \n",
      " 11  Total Revenue   1000 non-null   float64       \n",
      " 12  Total Cost      1000 non-null   float64       \n",
      " 13  Total Profit    1000 non-null   float64       \n",
      "dtypes: datetime64[ns](2), float64(5), int64(2), object(5)\n",
      "memory usage: 109.5+ KB\n"
     ]
    }
   ],
   "execution_count": 19
  },
  {
   "metadata": {},
   "cell_type": "markdown",
   "source": "### Step 8: Transformations",
   "id": "f89edc8d0d059367"
  },
  {
   "metadata": {
    "ExecuteTime": {
     "end_time": "2025-09-30T18:25:46.012249Z",
     "start_time": "2025-09-30T18:25:45.993604Z"
    }
   },
   "cell_type": "code",
   "source": [
    "priority_map = {\"H\": 1, \"M\": 2, \"L\": 3, \"C\":4}\n",
    "sales_cleaned[\"Priority_code\"] = sales_cleaned[\"Order Priority\"].map(priority_map)\n",
    "sales_cleaned[[\"Order Priority\", \"Priority_code\"]].head()"
   ],
   "id": "57b484b6e149ef9",
   "outputs": [
    {
     "data": {
      "text/plain": [
       "  Order Priority  Priority_code\n",
       "0              M              2\n",
       "1              M              2\n",
       "2              C              4\n",
       "3              C              4\n",
       "4              H              1"
      ],
      "text/html": [
       "<div>\n",
       "<style scoped>\n",
       "    .dataframe tbody tr th:only-of-type {\n",
       "        vertical-align: middle;\n",
       "    }\n",
       "\n",
       "    .dataframe tbody tr th {\n",
       "        vertical-align: top;\n",
       "    }\n",
       "\n",
       "    .dataframe thead th {\n",
       "        text-align: right;\n",
       "    }\n",
       "</style>\n",
       "<table border=\"1\" class=\"dataframe\">\n",
       "  <thead>\n",
       "    <tr style=\"text-align: right;\">\n",
       "      <th></th>\n",
       "      <th>Order Priority</th>\n",
       "      <th>Priority_code</th>\n",
       "    </tr>\n",
       "  </thead>\n",
       "  <tbody>\n",
       "    <tr>\n",
       "      <th>0</th>\n",
       "      <td>M</td>\n",
       "      <td>2</td>\n",
       "    </tr>\n",
       "    <tr>\n",
       "      <th>1</th>\n",
       "      <td>M</td>\n",
       "      <td>2</td>\n",
       "    </tr>\n",
       "    <tr>\n",
       "      <th>2</th>\n",
       "      <td>C</td>\n",
       "      <td>4</td>\n",
       "    </tr>\n",
       "    <tr>\n",
       "      <th>3</th>\n",
       "      <td>C</td>\n",
       "      <td>4</td>\n",
       "    </tr>\n",
       "    <tr>\n",
       "      <th>4</th>\n",
       "      <td>H</td>\n",
       "      <td>1</td>\n",
       "    </tr>\n",
       "  </tbody>\n",
       "</table>\n",
       "</div>"
      ]
     },
     "execution_count": 20,
     "metadata": {},
     "output_type": "execute_result"
    }
   ],
   "execution_count": 20
  },
  {
   "metadata": {},
   "cell_type": "markdown",
   "source": "### Step 9: Feature Engineering",
   "id": "8378bbee9b10ad7c"
  },
  {
   "metadata": {
    "ExecuteTime": {
     "end_time": "2025-09-30T18:25:46.086045Z",
     "start_time": "2025-09-30T18:25:46.060060Z"
    }
   },
   "cell_type": "code",
   "source": [
    "\n",
    "sales_cleaned[\"Days_to_Ship\"] = (sales_cleaned[\"Ship Date\"] - sales_cleaned[\"Order Date\"]).dt.days\n",
    "sales_cleaned[[\"Order Date\", \"Ship Date\", \"Days_to_Ship\"]].head()"
   ],
   "id": "dfad5b275461be15",
   "outputs": [
    {
     "data": {
      "text/plain": [
       "  Order Date  Ship Date  Days_to_Ship\n",
       "0 2014-10-18 2014-10-31            13\n",
       "1 2011-11-07 2011-12-08            31\n",
       "2 2016-10-31 2016-12-09            39\n",
       "3 2010-04-10 2010-05-12            32\n",
       "4 2011-08-16 2011-08-31            15"
      ],
      "text/html": [
       "<div>\n",
       "<style scoped>\n",
       "    .dataframe tbody tr th:only-of-type {\n",
       "        vertical-align: middle;\n",
       "    }\n",
       "\n",
       "    .dataframe tbody tr th {\n",
       "        vertical-align: top;\n",
       "    }\n",
       "\n",
       "    .dataframe thead th {\n",
       "        text-align: right;\n",
       "    }\n",
       "</style>\n",
       "<table border=\"1\" class=\"dataframe\">\n",
       "  <thead>\n",
       "    <tr style=\"text-align: right;\">\n",
       "      <th></th>\n",
       "      <th>Order Date</th>\n",
       "      <th>Ship Date</th>\n",
       "      <th>Days_to_Ship</th>\n",
       "    </tr>\n",
       "  </thead>\n",
       "  <tbody>\n",
       "    <tr>\n",
       "      <th>0</th>\n",
       "      <td>2014-10-18</td>\n",
       "      <td>2014-10-31</td>\n",
       "      <td>13</td>\n",
       "    </tr>\n",
       "    <tr>\n",
       "      <th>1</th>\n",
       "      <td>2011-11-07</td>\n",
       "      <td>2011-12-08</td>\n",
       "      <td>31</td>\n",
       "    </tr>\n",
       "    <tr>\n",
       "      <th>2</th>\n",
       "      <td>2016-10-31</td>\n",
       "      <td>2016-12-09</td>\n",
       "      <td>39</td>\n",
       "    </tr>\n",
       "    <tr>\n",
       "      <th>3</th>\n",
       "      <td>2010-04-10</td>\n",
       "      <td>2010-05-12</td>\n",
       "      <td>32</td>\n",
       "    </tr>\n",
       "    <tr>\n",
       "      <th>4</th>\n",
       "      <td>2011-08-16</td>\n",
       "      <td>2011-08-31</td>\n",
       "      <td>15</td>\n",
       "    </tr>\n",
       "  </tbody>\n",
       "</table>\n",
       "</div>"
      ]
     },
     "execution_count": 21,
     "metadata": {},
     "output_type": "execute_result"
    }
   ],
   "execution_count": 21
  },
  {
   "metadata": {},
   "cell_type": "markdown",
   "source": "### Step 10: Mini-Aggregation",
   "id": "affd1938a4fa152f"
  },
  {
   "metadata": {
    "ExecuteTime": {
     "end_time": "2025-09-30T18:25:46.382167Z",
     "start_time": "2025-09-30T18:25:46.366324Z"
    }
   },
   "cell_type": "code",
   "source": [
    "revenue_by_country = sales_cleaned.groupby(\"Country\")[\"Total Revenue\"].sum().sort_values(ascending=False)\n",
    "revenue_by_country.head(10)"
   ],
   "id": "6f16c55f21dbdbdb",
   "outputs": [
    {
     "data": {
      "text/plain": [
       "Country\n",
       "Cuba                        27522085.87\n",
       "Papua New Guinea            22209652.47\n",
       "Ghana                       21267908.50\n",
       "Costa Rica                  19628279.63\n",
       "Iran                        18719532.99\n",
       "Chad                        17278040.69\n",
       "Central African Republic    16591036.85\n",
       "Malaysia                    16416989.18\n",
       "Austria                     16199378.41\n",
       "Vanuatu                     16011801.84\n",
       "Name: Total Revenue, dtype: float64"
      ]
     },
     "execution_count": 22,
     "metadata": {},
     "output_type": "execute_result"
    }
   ],
   "execution_count": 22
  },
  {
   "metadata": {},
   "cell_type": "markdown",
   "source": "### Step 11: Serialization",
   "id": "3e093fd7523a2173"
  },
  {
   "metadata": {
    "ExecuteTime": {
     "end_time": "2025-09-30T18:25:46.985439Z",
     "start_time": "2025-09-30T18:25:46.921830Z"
    }
   },
   "cell_type": "code",
   "source": [
    "sales_cleaned.to_csv(\"data/sales_cleaned.csv\", index=False)\n",
    "sales_cleaned.to_json(\"data/sales_cleaned.json\", orient=\"records\", lines=True)"
   ],
   "id": "161a576719ea6c48",
   "outputs": [],
   "execution_count": 23
  },
  {
   "metadata": {},
   "cell_type": "markdown",
   "source": [
    "### Step 12: Soft Interview Reflection\n",
    "\n",
    "Functions as well as our class allowed us to structure the workflow into clear adn reusable blocks.\n",
    "Instead of repeating code for cleaning and aggregation, we called methods. This reduces the errors"
   ],
   "id": "459f1e1e0e7bb266"
  },
  {
   "metadata": {},
   "cell_type": "markdown",
   "source": "### Data-Dictionary Section",
   "id": "a57640eb3f17c26c"
  },
  {
   "metadata": {},
   "cell_type": "markdown",
   "source": [
    "## 📑 Data Dictionary\n",
    "\n",
    "| Field           | Type      | Description                                       | Source   | Notes on Creation |\n",
    "|-----------------|----------|---------------------------------------------------|----------|-------------------|\n",
    "| Region          | String   | Geographic sales region (e.g., Asia, Europe)      | Sales    | Original field from sales dataset |\n",
    "| Country         | String   | Country of transaction                            | Sales    | Original field from sales dataset |\n",
    "| Item Type       | String   | Product category (e.g., Fruits, Baby Food)        | Sales    | Original field from sales dataset |\n",
    "| Sales Channel   | String   | Online or Offline sales channel                   | Sales    | Original field from sales dataset |\n",
    "| Order Priority  | String   | Priority code (H = High, M = Medium, L = Low, C = Critical) | Sales | Original field; also transformed into numeric codes |\n",
    "| Order Date      | Date     | Date when the order was placed                    | Sales    | Original, converted to `datetime` |\n",
    "| Order ID        | Integer  | Unique identifier for the sales order             | Sales    | Original field |\n",
    "| Ship Date       | Date     | Date when the order shipped                       | Sales    | Original, converted to `datetime` |\n",
    "| Units Sold      | Integer  | Quantity of items sold                            | Sales    | Original field |\n",
    "| Unit Price      | Float    | Price per unit (USD)                              | Sales    | Original field |\n",
    "| Unit Cost       | Float    | Cost per unit (USD)                               | Sales    | Original field |\n",
    "| Total Revenue   | Float    | Total revenue = Units Sold × Unit Price           | Sales    | Derived field (calculated in dataset) |\n",
    "| Total Cost      | Float    | Total cost = Units Sold × Unit Cost               | Sales    | Derived field (calculated in dataset) |\n",
    "| Total Profit    | Float    | Profit = Revenue − Cost                           | Sales    | Derived field (calculated in dataset) |\n",
    "| Priority_Code   | Integer  | Encoded priority (H=1, M=2, L=3, C=4)              | Synthetic| Added during transformation step |\n",
    "| Days_to_Ship    | Integer  | Days between order and shipment                   | Synthetic| Derived feature using Order Date and Ship Date |\n",
    "| ProductID       | Integer  | Unique identifier for catalog product             | Catalog  | Original field from product catalog |\n",
    "| ProductName     | String   | Official product name (e.g., Presto Fly 3)        | Catalog  | Original field |\n",
    "| ProductBrand    | String   | Brand name (Nike, Adidas, Vans, etc.)             | Catalog  | Original field |\n",
    "| Gender          | String   | Intended gender for product (Men, Women, Unisex)  | Catalog  | Original field |\n",
    "| Price           | Integer  | Catalog price in cents (e.g., 10999 = $109.99)    | Catalog  | Original field |\n",
    "| Description     | String   | Marketing description of the product              | Catalog  | Original field |\n",
    "| PrimaryColor    | String   | Dominant color of the product                     | Catalog  | Original field |\n",
    "\n",
    "---\n",
    "\n",
    "### Explanation:\n",
    "- **Original fields**: Taken from the dataset directly (e.g, Country, ProductName)\n",
    "- **Created Fields**: Calculated using existing values (e.g, Total profit = Revenue - Cost)\n",
    "- **Synthetic Fields**: Created during this lab for analysis (e.g, Days_to_Ship)\n",
    "- **Combination fields**: None but it could be created (e.g, merging Item Type with ProductBrand)"
   ],
   "id": "6c47c7aec02dcb0a"
  },
  {
   "metadata": {},
   "cell_type": "code",
   "outputs": [],
   "execution_count": null,
   "source": "##",
   "id": "d1c04142db296b14"
  }
 ],
 "metadata": {
  "kernelspec": {
   "display_name": "Python 3",
   "language": "python",
   "name": "python3"
  },
  "language_info": {
   "codemirror_mode": {
    "name": "ipython",
    "version": 2
   },
   "file_extension": ".py",
   "mimetype": "text/x-python",
   "name": "python",
   "nbconvert_exporter": "python",
   "pygments_lexer": "ipython2",
   "version": "2.7.6"
  }
 },
 "nbformat": 4,
 "nbformat_minor": 5
}
