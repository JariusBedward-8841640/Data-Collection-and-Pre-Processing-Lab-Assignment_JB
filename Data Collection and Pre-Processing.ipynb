{
 "cells": [
  {
   "metadata": {},
   "cell_type": "markdown",
   "source": [
    "# Data Collection and Pre-Processing - Lab\n",
    "\n",
    "**Name:** Jarius Bedward\n",
    "\n",
    "**Course:** PROG8245 Machine Learning Programming\n",
    "\n",
    "**Date:** 2025-09-30"
   ],
   "id": "8f4924f61a7d3993"
  },
  {
   "metadata": {},
   "cell_type": "markdown",
   "source": "### Imports & Setup",
   "id": "28ca7a5b8affef6f"
  },
  {
   "cell_type": "code",
   "execution_count": null,
   "id": "initial_id",
   "metadata": {
    "collapsed": true
   },
   "outputs": [],
   "source": [
    "import pandas as pd\n",
    "import numpy as np\n",
    "from dataclasses import dataclass, field\n",
    "\n",
    "\n",
    "\n",
    "# Paths for primary and secondary data\n",
    "\n",
    "sales_df = pd.read_csv(\"data/1000 Sales Records.csv\")\n",
    "catalog_df = pd.read_csv(\"data/shop-product-catalog.csv\")\n",
    "\n",
    "\n"
   ]
  },
  {
   "metadata": {},
   "cell_type": "markdown",
   "source": [
    "### Step 1: Hello, Data!\n",
    "\n",
    "Load the primary transactions file and display the first 3 rows"
   ],
   "id": "d212b5b726236a54"
  },
  {
   "metadata": {},
   "cell_type": "code",
   "outputs": [],
   "execution_count": null,
   "source": [
    "display(sales_df.head(3))\n",
    "display(catalog_df.head(3))"
   ],
   "id": "ec2124b24ac116a6"
  },
  {
   "metadata": {},
   "cell_type": "markdown",
   "source": [
    "### Step 2: Pick the right container\n",
    "\n",
    "For this dataset we would use a dictionary of lists from padnas dataframe.\n",
    "Pandas dataframe is built on dictionary like structures so its the most appropriate for this"
   ],
   "id": "b67ccf923362117"
  },
  {
   "metadata": {},
   "cell_type": "markdown",
   "source": "### Step 3: Order Class",
   "id": "3ba2bb8e33ff2a52"
  },
  {
   "metadata": {},
   "cell_type": "code",
   "outputs": [],
   "execution_count": null,
   "source": [
    "\n",
    "class SalesCleaner:\n",
    "    def __init__(self, df):\n",
    "        self.df = df.copy()\n",
    "\n",
    "    def clean(self):\n",
    "        #Cleaning: Strip the whitespace in item type\n",
    "       self.df[\"Item Type\"] = self.df[\"Item Type\"].str.strip()\n",
    "\n",
    "    def total_revenue(self):\n",
    "\n",
    "        return self.df [\"Total Revenue\"].sum()\n",
    "\n",
    "cleaner = SalesCleaner(sales_df)\n",
    "cleaned_sales = cleaner.clean()\n",
    "print(\"Total Revenue:\", cleaner.total_revenue())"
   ],
   "id": "d9bc80f9c159861c"
  },
  {
   "metadata": {},
   "cell_type": "markdown",
   "source": "### Step 4: Bulk Load Orders",
   "id": "e5e0df1c397a818b"
  },
  {
   "metadata": {},
   "cell_type": "code",
   "outputs": [],
   "execution_count": null,
   "source": [
    "profit_map = dict(zip(cleaned_sales[\"Order ID\"], cleaned_sales[\"Total Profit\"]))\n",
    "list(profit_map.items())[:5]"
   ],
   "id": "aa169cec863a07bd"
  },
  {
   "metadata": {},
   "cell_type": "markdown",
   "source": "### Step 5: Quick Profiling",
   "id": "ef3c9e4ff8900c0c"
  },
  {
   "metadata": {},
   "cell_type": "code",
   "outputs": [],
   "execution_count": null,
   "source": [
    "print(\"Min price:\", cleaned_sales[\"Unit Price\"].min())\n",
    "print(\"Mean price:\", cleaned_sales[\"Unit Price\"].mean())\n",
    "print(\"Max price:\", cleaned_sales[\"Unit price\"].max())\n",
    "print(\"Unique countries:\", len(set(cleaned_sales[\"Country\"])))"
   ],
   "id": "b0821e0cbafdd910"
  },
  {
   "metadata": {},
   "cell_type": "markdown",
   "source": [
    "### Step 6: Spot the Grime\n",
    "\n",
    "Identify 3 dirty cases\n",
    "\n",
    "    1. Extra whitespace in \"Item type\"\n",
    "    2. Inconsistent date formats in \"order date\n",
    "    3. Negative or zero \"Units sold\""
   ],
   "id": "10e7cf13089f96ff"
  },
  {
   "metadata": {},
   "cell_type": "code",
   "outputs": [],
   "execution_count": null,
   "source": [
    "print(\"Whitespace check:\", cleaned_sales[\"Item Type\"].str.contains(\" \").sum())\n",
    "print(\"date format sample:\", cleaned_sales[\"Order Date\"].head())\n",
    "print(\"Units sold ≤ 0:\", (cleaned_sales[\"Units Sold\"] <= 0).sum())"
   ],
   "id": "c6013805ff387c66"
  },
  {
   "metadata": {},
   "cell_type": "markdown",
   "source": [
    "### Step 7: Clean Rules\n",
    "\n",
    "We apply rules inside the clean method to normalize thew whitespace, convert dates to datetime and filter out bad units"
   ],
   "id": "5e3b47fe98a46a00"
  },
  {
   "metadata": {
    "ExecuteTime": {
     "end_time": "2025-09-30T16:57:57.513933Z",
     "start_time": "2025-09-30T16:57:57.502262Z"
    }
   },
   "cell_type": "code",
   "source": [
    "def clean_sales(df):\n",
    "    df = df.copy()\n",
    "    df[\"Item Type\"] = df[\"Item Type\"].str.strip()\n",
    "    df[\"Order Date\"] = pd.to_datetime(df[\"Order Date\"])\n",
    "    df[\"Ship Date\"] = pd.to_datetime(df[\"Ship Date\"])\n",
    "    df = df[df[\"Units Sold\"] > 0]\n",
    "    return df\n",
    "\n",
    "sales_cleaned = clean_sales(sales_df)\n",
    "sales_cleaned.info()"
   ],
   "id": "1424274749e21e1c",
   "outputs": [
    {
     "ename": "SyntaxError",
     "evalue": "invalid syntax (2396007248.py, line 12)",
     "output_type": "error",
     "traceback": [
      "  \u001B[36mCell\u001B[39m\u001B[36m \u001B[39m\u001B[32mIn[1]\u001B[39m\u001B[32m, line 12\u001B[39m\n\u001B[31m    \u001B[39m\u001B[31mdf_clean[\"Total Profit\"] = df_clean[\"Total Revenue\"] - df_clean[]\u001B[39m\n                                                                    ^\n\u001B[31mSyntaxError\u001B[39m\u001B[31m:\u001B[39m invalid syntax\n"
     ]
    }
   ],
   "execution_count": 1
  },
  {
   "metadata": {},
   "cell_type": "markdown",
   "source": "### Step 8: Transformations",
   "id": "f89edc8d0d059367"
  },
  {
   "metadata": {},
   "cell_type": "code",
   "outputs": [],
   "execution_count": null,
   "source": [
    "df_meta = pd.read_csv(META_CSV)\n",
    "df_meta.head(3)\n",
    "\n",
    "\n",
    "df_enriched = df_clean.merge(df_meta, how=\"left\", on=\"Item Type\", right_on=\"product_name\")\n",
    "df_enriched.head(3)"
   ],
   "id": "57b484b6e149ef9"
  },
  {
   "metadata": {},
   "cell_type": "markdown",
   "source": "### Step 9: Feature Engineering",
   "id": "8378bbee9b10ad7c"
  },
  {
   "metadata": {
    "ExecuteTime": {
     "end_time": "2025-09-30T17:09:07.411558Z",
     "start_time": "2025-09-30T17:09:07.337316Z"
    }
   },
   "cell_type": "code",
   "source": [
    "# Days since the order has shipped\n",
    "\n",
    "df_enriched[\"Order Date\"] = pd.to_datetime(df_enriched[\"Order Date\"])\n",
    "df_enriched[\"Ship Date\"] = pd.to_datetime(df_enriched[\"Ship Date\"])\n",
    "ref_date = df_enriched[\"Ship Date\"].max()\n",
    "df_enriched[\"days_since_ship\"] = (ref_date - df_enriched[\"Ship Date\"]).dt.days\n",
    "\n",
    "# High value falg\n",
    "df_enriched[\"is_high_value\"] = df_enriched[\"Total Revenue\"] > 10000\n",
    "df_enriched[[\"Order Date\", \"Ship Date\", \"days_since_ship\", \"is_high_value\"]].head()"
   ],
   "id": "dfad5b275461be15",
   "outputs": [
    {
     "ename": "NameError",
     "evalue": "name 'pd' is not defined",
     "output_type": "error",
     "traceback": [
      "\u001B[31m---------------------------------------------------------------------------\u001B[39m",
      "\u001B[31mNameError\u001B[39m                                 Traceback (most recent call last)",
      "\u001B[36mCell\u001B[39m\u001B[36m \u001B[39m\u001B[32mIn[3]\u001B[39m\u001B[32m, line 3\u001B[39m\n\u001B[32m      1\u001B[39m \u001B[38;5;66;03m# Days since the order has shipped\u001B[39;00m\n\u001B[32m----> \u001B[39m\u001B[32m3\u001B[39m df_enriched[\u001B[33m\"\u001B[39m\u001B[33mOrder Date\u001B[39m\u001B[33m\"\u001B[39m] = \u001B[43mpd\u001B[49m.to_datetime(df_enriched[\u001B[33m\"\u001B[39m\u001B[33mOrder Date\u001B[39m\u001B[33m\"\u001B[39m])\n\u001B[32m      4\u001B[39m df_enriched[\u001B[33m\"\u001B[39m\u001B[33mShip Date\u001B[39m\u001B[33m\"\u001B[39m] = pd.to_datetime(df_enriched[\u001B[33m\"\u001B[39m\u001B[33mShip Date\u001B[39m\u001B[33m\"\u001B[39m])\n\u001B[32m      5\u001B[39m ref_date = df_enriched[\u001B[33m\"\u001B[39m\u001B[33mShip Date\u001B[39m\u001B[33m\"\u001B[39m].max()\n",
      "\u001B[31mNameError\u001B[39m: name 'pd' is not defined"
     ]
    }
   ],
   "execution_count": 3
  },
  {
   "metadata": {},
   "cell_type": "markdown",
   "source": "### Step 10: Mini-Aggregation",
   "id": "affd1938a4fa152f"
  },
  {
   "metadata": {},
   "cell_type": "code",
   "outputs": [],
   "execution_count": null,
   "source": [
    "revenue_by_country = df_enriched.groupby(\"Country\")[\"Total Revenue\"].sum().sort_values(ascending=False)\n",
    "revenue_by_country.head(10)"
   ],
   "id": "6f16c55f21dbdbdb"
  },
  {
   "metadata": {},
   "cell_type": "markdown",
   "source": "### Step 11: Serialization",
   "id": "3e093fd7523a2173"
  },
  {
   "metadata": {},
   "cell_type": "code",
   "outputs": [],
   "execution_count": null,
   "source": [
    "df_enriched.to_csv(CLEAN_CSV, index=False)\n",
    "df_enriched.to_json(CLEAN_JSON, orient=\"records\", date_format=\"iso\")"
   ],
   "id": "161a576719ea6c48"
  },
  {
   "metadata": {},
   "cell_type": "markdown",
   "source": "### Step 12: Data Dictionary",
   "id": "459f1e1e0e7bb266"
  }
 ],
 "metadata": {
  "kernelspec": {
   "display_name": "Python 3",
   "language": "python",
   "name": "python3"
  },
  "language_info": {
   "codemirror_mode": {
    "name": "ipython",
    "version": 2
   },
   "file_extension": ".py",
   "mimetype": "text/x-python",
   "name": "python",
   "nbconvert_exporter": "python",
   "pygments_lexer": "ipython2",
   "version": "2.7.6"
  }
 },
 "nbformat": 4,
 "nbformat_minor": 5
}
